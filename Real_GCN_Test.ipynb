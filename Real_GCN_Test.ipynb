{
 "cells": [
  {
   "cell_type": "code",
   "execution_count": 36,
   "id": "c4ebae05",
   "metadata": {},
   "outputs": [],
   "source": [
    "import pandas as pd\n",
    "from tqdm import tqdm\n",
    "import json\n",
    "import os\n",
    "import umap\n",
    "import numpy as np\n",
    "import scipy.sparse as sp\n",
    "from sklearn.model_selection import train_test_split\n",
    "from sklearn.preprocessing import LabelBinarizer\n",
    "from sklearn.metrics import f1_score, roc_auc_score, average_precision_score, confusion_matrix\n",
    "\n",
    "\n",
    "import stellargraph as sg\n",
    "from stellargraph.mapper import FullBatchNodeGenerator\n",
    "from stellargraph.layer import GCN\n",
    "\n",
    "import warnings\n",
    "import tensorflow as tf\n",
    "from tensorflow.keras import backend as K\n",
    "from tensorflow.keras import activations, initializers, constraints, regularizers\n",
    "from tensorflow.keras.layers import Input, Layer, Lambda, Dropout, Reshape, Dense\n",
    "from tensorflow.keras.callbacks import EarlyStopping\n",
    "\n",
    "from tensorflow.keras import layers, optimizers, losses, metrics, Model\n",
    "import matplotlib.pyplot as plt\n",
    "import seaborn as sns"
   ]
  },
  {
   "cell_type": "code",
   "execution_count": 37,
   "id": "28fd8785",
   "metadata": {},
   "outputs": [],
   "source": [
    "edges_path = 'git_web_ml/musae_git_edges.csv'\n",
    "targets_path = 'git_web_ml/musae_git_target.csv'\n",
    "features_path = 'git_web_ml/musae_git_features.json'"
   ]
  },
  {
   "cell_type": "code",
   "execution_count": 38,
   "id": "230c0e04",
   "metadata": {},
   "outputs": [
    {
     "data": {
      "text/plain": [
       "(289003, 2)"
      ]
     },
     "metadata": {},
     "output_type": "display_data"
    },
    {
     "data": {
      "text/html": [
       "<div>\n",
       "<style scoped>\n",
       "    .dataframe tbody tr th:only-of-type {\n",
       "        vertical-align: middle;\n",
       "    }\n",
       "\n",
       "    .dataframe tbody tr th {\n",
       "        vertical-align: top;\n",
       "    }\n",
       "\n",
       "    .dataframe thead th {\n",
       "        text-align: right;\n",
       "    }\n",
       "</style>\n",
       "<table border=\"1\" class=\"dataframe\">\n",
       "  <thead>\n",
       "    <tr style=\"text-align: right;\">\n",
       "      <th></th>\n",
       "      <th>source</th>\n",
       "      <th>target</th>\n",
       "    </tr>\n",
       "  </thead>\n",
       "  <tbody>\n",
       "    <tr>\n",
       "      <th>0</th>\n",
       "      <td>0</td>\n",
       "      <td>23977</td>\n",
       "    </tr>\n",
       "    <tr>\n",
       "      <th>1</th>\n",
       "      <td>1</td>\n",
       "      <td>34526</td>\n",
       "    </tr>\n",
       "    <tr>\n",
       "      <th>2</th>\n",
       "      <td>1</td>\n",
       "      <td>2370</td>\n",
       "    </tr>\n",
       "    <tr>\n",
       "      <th>3</th>\n",
       "      <td>1</td>\n",
       "      <td>14683</td>\n",
       "    </tr>\n",
       "    <tr>\n",
       "      <th>4</th>\n",
       "      <td>1</td>\n",
       "      <td>29982</td>\n",
       "    </tr>\n",
       "    <tr>\n",
       "      <th>...</th>\n",
       "      <td>...</td>\n",
       "      <td>...</td>\n",
       "    </tr>\n",
       "    <tr>\n",
       "      <th>288998</th>\n",
       "      <td>37527</td>\n",
       "      <td>37596</td>\n",
       "    </tr>\n",
       "    <tr>\n",
       "      <th>288999</th>\n",
       "      <td>37529</td>\n",
       "      <td>37601</td>\n",
       "    </tr>\n",
       "    <tr>\n",
       "      <th>289000</th>\n",
       "      <td>37644</td>\n",
       "      <td>2347</td>\n",
       "    </tr>\n",
       "    <tr>\n",
       "      <th>289001</th>\n",
       "      <td>25879</td>\n",
       "      <td>2347</td>\n",
       "    </tr>\n",
       "    <tr>\n",
       "      <th>289002</th>\n",
       "      <td>25616</td>\n",
       "      <td>2347</td>\n",
       "    </tr>\n",
       "  </tbody>\n",
       "</table>\n",
       "<p>289003 rows × 2 columns</p>\n",
       "</div>"
      ],
      "text/plain": [
       "        source  target\n",
       "0            0   23977\n",
       "1            1   34526\n",
       "2            1    2370\n",
       "3            1   14683\n",
       "4            1   29982\n",
       "...        ...     ...\n",
       "288998   37527   37596\n",
       "288999   37529   37601\n",
       "289000   37644    2347\n",
       "289001   25879    2347\n",
       "289002   25616    2347\n",
       "\n",
       "[289003 rows x 2 columns]"
      ]
     },
     "metadata": {},
     "output_type": "display_data"
    }
   ],
   "source": [
    "# Read in edges\n",
    "edges = pd.read_csv(edges_path)\n",
    "edges.columns = ['source', 'target'] # renaming for StellarGraph compatibility\n",
    "display(edges.shape, edges)"
   ]
  },
  {
   "cell_type": "code",
   "execution_count": 39,
   "id": "514dbfe1",
   "metadata": {},
   "outputs": [
    {
     "name": "stderr",
     "output_type": "stream",
     "text": [
      "100%|██████████| 37700/37700 [00:01<00:00, 22719.85it/s]\n"
     ]
    }
   ],
   "source": [
    "# Read in features\n",
    "with open(features_path) as json_data:\n",
    "    features = json.load(json_data)\n",
    "    \n",
    "max_feature = np.max([v for v_list in features.values() for v in v_list])\n",
    "features_matrix = np.zeros(shape = (len(list(features.keys())), max_feature+1))\n",
    "\n",
    "i = 0\n",
    "for k, vs in tqdm(features.items()):\n",
    "    for v in vs:\n",
    "        features_matrix[i, v] = 1\n",
    "    i+=1"
   ]
  },
  {
   "cell_type": "code",
   "execution_count": 40,
   "id": "6a969b93",
   "metadata": {},
   "outputs": [
    {
     "data": {
      "text/plain": [
       "4004"
      ]
     },
     "metadata": {},
     "output_type": "display_data"
    },
    {
     "data": {
      "text/plain": [
       "array([[0., 0., 0., ..., 0., 0., 0.],\n",
       "       [0., 0., 0., ..., 0., 0., 0.],\n",
       "       [0., 0., 0., ..., 0., 0., 0.],\n",
       "       ...,\n",
       "       [0., 0., 0., ..., 0., 0., 0.],\n",
       "       [0., 0., 0., ..., 0., 0., 0.],\n",
       "       [0., 0., 0., ..., 0., 0., 0.]])"
      ]
     },
     "metadata": {},
     "output_type": "display_data"
    }
   ],
   "source": [
    "display(max_feature, features_matrix )"
   ]
  },
  {
   "cell_type": "code",
   "execution_count": 41,
   "id": "00e714b1",
   "metadata": {},
   "outputs": [
    {
     "data": {
      "text/plain": [
       "(37700, 4005)"
      ]
     },
     "metadata": {},
     "output_type": "display_data"
    },
    {
     "data": {
      "text/html": [
       "<div>\n",
       "<style scoped>\n",
       "    .dataframe tbody tr th:only-of-type {\n",
       "        vertical-align: middle;\n",
       "    }\n",
       "\n",
       "    .dataframe tbody tr th {\n",
       "        vertical-align: top;\n",
       "    }\n",
       "\n",
       "    .dataframe thead th {\n",
       "        text-align: right;\n",
       "    }\n",
       "</style>\n",
       "<table border=\"1\" class=\"dataframe\">\n",
       "  <thead>\n",
       "    <tr style=\"text-align: right;\">\n",
       "      <th></th>\n",
       "      <th>0</th>\n",
       "      <th>1</th>\n",
       "      <th>2</th>\n",
       "      <th>3</th>\n",
       "      <th>4</th>\n",
       "      <th>5</th>\n",
       "      <th>6</th>\n",
       "      <th>7</th>\n",
       "      <th>8</th>\n",
       "      <th>9</th>\n",
       "      <th>...</th>\n",
       "      <th>3995</th>\n",
       "      <th>3996</th>\n",
       "      <th>3997</th>\n",
       "      <th>3998</th>\n",
       "      <th>3999</th>\n",
       "      <th>4000</th>\n",
       "      <th>4001</th>\n",
       "      <th>4002</th>\n",
       "      <th>4003</th>\n",
       "      <th>4004</th>\n",
       "    </tr>\n",
       "  </thead>\n",
       "  <tbody>\n",
       "    <tr>\n",
       "      <th>0</th>\n",
       "      <td>0.0</td>\n",
       "      <td>0.0</td>\n",
       "      <td>0.0</td>\n",
       "      <td>0.0</td>\n",
       "      <td>0.0</td>\n",
       "      <td>0.0</td>\n",
       "      <td>0.0</td>\n",
       "      <td>0.0</td>\n",
       "      <td>0.0</td>\n",
       "      <td>0.0</td>\n",
       "      <td>...</td>\n",
       "      <td>0.0</td>\n",
       "      <td>0.0</td>\n",
       "      <td>0.0</td>\n",
       "      <td>0.0</td>\n",
       "      <td>0.0</td>\n",
       "      <td>0.0</td>\n",
       "      <td>0.0</td>\n",
       "      <td>0.0</td>\n",
       "      <td>0.0</td>\n",
       "      <td>0.0</td>\n",
       "    </tr>\n",
       "    <tr>\n",
       "      <th>1</th>\n",
       "      <td>0.0</td>\n",
       "      <td>0.0</td>\n",
       "      <td>0.0</td>\n",
       "      <td>0.0</td>\n",
       "      <td>0.0</td>\n",
       "      <td>0.0</td>\n",
       "      <td>0.0</td>\n",
       "      <td>0.0</td>\n",
       "      <td>0.0</td>\n",
       "      <td>0.0</td>\n",
       "      <td>...</td>\n",
       "      <td>0.0</td>\n",
       "      <td>0.0</td>\n",
       "      <td>0.0</td>\n",
       "      <td>0.0</td>\n",
       "      <td>0.0</td>\n",
       "      <td>0.0</td>\n",
       "      <td>0.0</td>\n",
       "      <td>0.0</td>\n",
       "      <td>0.0</td>\n",
       "      <td>0.0</td>\n",
       "    </tr>\n",
       "    <tr>\n",
       "      <th>2</th>\n",
       "      <td>0.0</td>\n",
       "      <td>0.0</td>\n",
       "      <td>0.0</td>\n",
       "      <td>0.0</td>\n",
       "      <td>0.0</td>\n",
       "      <td>0.0</td>\n",
       "      <td>0.0</td>\n",
       "      <td>0.0</td>\n",
       "      <td>0.0</td>\n",
       "      <td>0.0</td>\n",
       "      <td>...</td>\n",
       "      <td>0.0</td>\n",
       "      <td>0.0</td>\n",
       "      <td>0.0</td>\n",
       "      <td>0.0</td>\n",
       "      <td>0.0</td>\n",
       "      <td>0.0</td>\n",
       "      <td>0.0</td>\n",
       "      <td>0.0</td>\n",
       "      <td>0.0</td>\n",
       "      <td>0.0</td>\n",
       "    </tr>\n",
       "    <tr>\n",
       "      <th>3</th>\n",
       "      <td>0.0</td>\n",
       "      <td>0.0</td>\n",
       "      <td>0.0</td>\n",
       "      <td>0.0</td>\n",
       "      <td>0.0</td>\n",
       "      <td>0.0</td>\n",
       "      <td>0.0</td>\n",
       "      <td>0.0</td>\n",
       "      <td>0.0</td>\n",
       "      <td>0.0</td>\n",
       "      <td>...</td>\n",
       "      <td>0.0</td>\n",
       "      <td>0.0</td>\n",
       "      <td>0.0</td>\n",
       "      <td>0.0</td>\n",
       "      <td>0.0</td>\n",
       "      <td>0.0</td>\n",
       "      <td>0.0</td>\n",
       "      <td>0.0</td>\n",
       "      <td>1.0</td>\n",
       "      <td>0.0</td>\n",
       "    </tr>\n",
       "    <tr>\n",
       "      <th>4</th>\n",
       "      <td>0.0</td>\n",
       "      <td>0.0</td>\n",
       "      <td>0.0</td>\n",
       "      <td>0.0</td>\n",
       "      <td>0.0</td>\n",
       "      <td>0.0</td>\n",
       "      <td>0.0</td>\n",
       "      <td>0.0</td>\n",
       "      <td>0.0</td>\n",
       "      <td>0.0</td>\n",
       "      <td>...</td>\n",
       "      <td>0.0</td>\n",
       "      <td>0.0</td>\n",
       "      <td>0.0</td>\n",
       "      <td>0.0</td>\n",
       "      <td>0.0</td>\n",
       "      <td>0.0</td>\n",
       "      <td>0.0</td>\n",
       "      <td>0.0</td>\n",
       "      <td>0.0</td>\n",
       "      <td>0.0</td>\n",
       "    </tr>\n",
       "  </tbody>\n",
       "</table>\n",
       "<p>5 rows × 4005 columns</p>\n",
       "</div>"
      ],
      "text/plain": [
       "   0     1     2     3     4     5     6     7     8     9     ...  3995  \\\n",
       "0   0.0   0.0   0.0   0.0   0.0   0.0   0.0   0.0   0.0   0.0  ...   0.0   \n",
       "1   0.0   0.0   0.0   0.0   0.0   0.0   0.0   0.0   0.0   0.0  ...   0.0   \n",
       "2   0.0   0.0   0.0   0.0   0.0   0.0   0.0   0.0   0.0   0.0  ...   0.0   \n",
       "3   0.0   0.0   0.0   0.0   0.0   0.0   0.0   0.0   0.0   0.0  ...   0.0   \n",
       "4   0.0   0.0   0.0   0.0   0.0   0.0   0.0   0.0   0.0   0.0  ...   0.0   \n",
       "\n",
       "   3996  3997  3998  3999  4000  4001  4002  4003  4004  \n",
       "0   0.0   0.0   0.0   0.0   0.0   0.0   0.0   0.0   0.0  \n",
       "1   0.0   0.0   0.0   0.0   0.0   0.0   0.0   0.0   0.0  \n",
       "2   0.0   0.0   0.0   0.0   0.0   0.0   0.0   0.0   0.0  \n",
       "3   0.0   0.0   0.0   0.0   0.0   0.0   0.0   1.0   0.0  \n",
       "4   0.0   0.0   0.0   0.0   0.0   0.0   0.0   0.0   0.0  \n",
       "\n",
       "[5 rows x 4005 columns]"
      ]
     },
     "metadata": {},
     "output_type": "display_data"
    },
    {
     "data": {
      "text/plain": [
       "0       float64\n",
       "1       float64\n",
       "2       float64\n",
       "3       float64\n",
       "4       float64\n",
       "         ...   \n",
       "4000    float64\n",
       "4001    float64\n",
       "4002    float64\n",
       "4003    float64\n",
       "4004    float64\n",
       "Length: 4005, dtype: object"
      ]
     },
     "metadata": {},
     "output_type": "display_data"
    }
   ],
   "source": [
    "node_features = pd.DataFrame(features_matrix, index = features.keys())\n",
    "display(node_features.shape, node_features.head(), node_features.dtypes)"
   ]
  },
  {
   "cell_type": "code",
   "execution_count": 42,
   "id": "8b84d262",
   "metadata": {},
   "outputs": [
    {
     "data": {
      "text/plain": [
       "(37700, 3)"
      ]
     },
     "metadata": {},
     "output_type": "display_data"
    },
    {
     "data": {
      "text/html": [
       "<div>\n",
       "<style scoped>\n",
       "    .dataframe tbody tr th:only-of-type {\n",
       "        vertical-align: middle;\n",
       "    }\n",
       "\n",
       "    .dataframe tbody tr th {\n",
       "        vertical-align: top;\n",
       "    }\n",
       "\n",
       "    .dataframe thead th {\n",
       "        text-align: right;\n",
       "    }\n",
       "</style>\n",
       "<table border=\"1\" class=\"dataframe\">\n",
       "  <thead>\n",
       "    <tr style=\"text-align: right;\">\n",
       "      <th></th>\n",
       "      <th>id</th>\n",
       "      <th>name</th>\n",
       "      <th>ml_target</th>\n",
       "    </tr>\n",
       "    <tr>\n",
       "      <th>id</th>\n",
       "      <th></th>\n",
       "      <th></th>\n",
       "      <th></th>\n",
       "    </tr>\n",
       "  </thead>\n",
       "  <tbody>\n",
       "    <tr>\n",
       "      <th>0</th>\n",
       "      <td>0</td>\n",
       "      <td>Eiryyy</td>\n",
       "      <td>0</td>\n",
       "    </tr>\n",
       "    <tr>\n",
       "      <th>1</th>\n",
       "      <td>1</td>\n",
       "      <td>shawflying</td>\n",
       "      <td>0</td>\n",
       "    </tr>\n",
       "    <tr>\n",
       "      <th>2</th>\n",
       "      <td>2</td>\n",
       "      <td>JpMCarrilho</td>\n",
       "      <td>1</td>\n",
       "    </tr>\n",
       "    <tr>\n",
       "      <th>3</th>\n",
       "      <td>3</td>\n",
       "      <td>SuhwanCha</td>\n",
       "      <td>0</td>\n",
       "    </tr>\n",
       "    <tr>\n",
       "      <th>4</th>\n",
       "      <td>4</td>\n",
       "      <td>sunilangadi2</td>\n",
       "      <td>1</td>\n",
       "    </tr>\n",
       "  </tbody>\n",
       "</table>\n",
       "</div>"
      ],
      "text/plain": [
       "    id          name  ml_target\n",
       "id                             \n",
       "0    0        Eiryyy          0\n",
       "1    1    shawflying          0\n",
       "2    2   JpMCarrilho          1\n",
       "3    3     SuhwanCha          0\n",
       "4    4  sunilangadi2          1"
      ]
     },
     "metadata": {},
     "output_type": "display_data"
    },
    {
     "data": {
      "text/plain": [
       "0    0.741671\n",
       "1    0.258329\n",
       "Name: ml_target, dtype: float64"
      ]
     },
     "metadata": {},
     "output_type": "display_data"
    }
   ],
   "source": [
    "# Read in targets\n",
    "targets = pd.read_csv(targets_path)\n",
    "targets.index = targets.id.astype(str)\n",
    "targets = targets.loc[features.keys(), :]\n",
    "display(targets.shape, targets.head(), targets.ml_target.value_counts(normalize=True))"
   ]
  },
  {
   "cell_type": "code",
   "execution_count": 43,
   "id": "ab533b22",
   "metadata": {},
   "outputs": [
    {
     "name": "stdout",
     "output_type": "stream",
     "text": [
      "Index(['0', '1', '2', '3', '4', '5', '6', '7', '8', '9',\n",
      "       ...\n",
      "       '37690', '37691', '37692', '37693', '37694', '37695', '37696', '37697',\n",
      "       '37698', '37699'],\n",
      "      dtype='object', length=37700)\n"
     ]
    }
   ],
   "source": [
    "print(node_features.index)"
   ]
  },
  {
   "cell_type": "code",
   "execution_count": 44,
   "id": "d94d2630",
   "metadata": {},
   "outputs": [
    {
     "name": "stdout",
     "output_type": "stream",
     "text": [
      "source    object\n",
      "target    object\n",
      "dtype: object\n",
      "source    int64\n",
      "target    int64\n",
      "dtype: object\n"
     ]
    }
   ],
   "source": [
    "print(edges.astype(str).dtypes)\n",
    "print(edges.dtypes)"
   ]
  },
  {
   "cell_type": "code",
   "execution_count": 45,
   "id": "7dfa004d",
   "metadata": {},
   "outputs": [],
   "source": [
    "G = sg.StellarGraph(node_features, edges.astype(str))"
   ]
  },
  {
   "cell_type": "code",
   "execution_count": 46,
   "id": "30539d08",
   "metadata": {},
   "outputs": [
    {
     "name": "stdout",
     "output_type": "stream",
     "text": [
      "StellarGraph: Undirected multigraph\n",
      " Nodes: 37700, Edges: 289003\n",
      "\n",
      " Node types:\n",
      "  default: [37700]\n",
      "    Features: float32 vector, length 4005\n",
      "    Edge types: default-default->default\n",
      "\n",
      " Edge types:\n",
      "    default-default->default: [289003]\n",
      "        Weights: all 1 (default)\n",
      "        Features: none\n"
     ]
    }
   ],
   "source": [
    "print(G.info())"
   ]
  },
  {
   "cell_type": "code",
   "execution_count": 47,
   "id": "afc3a247",
   "metadata": {},
   "outputs": [],
   "source": [
    "target_encoding = LabelBinarizer()\n",
    "\n",
    "# 1000 training examples\n",
    "train_pages, test_pages = train_test_split(targets, train_size=1000)\n",
    "val_pages, test_pages = train_test_split(test_pages, train_size=500)\n",
    "\n",
    "train_targets = target_encoding.fit_transform(train_pages['ml_target'])\n",
    "val_targets = target_encoding.transform(val_pages['ml_target'])\n",
    "test_targets = target_encoding.transform(test_pages['ml_target'])"
   ]
  },
  {
   "cell_type": "code",
   "execution_count": 48,
   "id": "7897d31b",
   "metadata": {},
   "outputs": [],
   "source": [
    "# Get the adjacency matrix\n",
    "A = G.to_adjacency_matrix(weighted=False)\n",
    "\n",
    "# Add self-connections\n",
    "A_t = A + sp.diags(np.ones(A.shape[0]) - A.diagonal())\n",
    "\n",
    "# Degree matrix to the power of -1/2\n",
    "D_t = sp.diags(np.power(np.array(A.sum(1)), -0.5).flatten(), 0)\n",
    "\n",
    "# Normalise the Adjacency matrix\n",
    "A_norm = A.dot(D_t).transpose().dot(D_t).todense()"
   ]
  },
  {
   "cell_type": "code",
   "execution_count": 49,
   "id": "3bb0bfc3",
   "metadata": {},
   "outputs": [],
   "source": [
    "# Define the function to get these indices\n",
    "def get_node_indices(G, ids):\n",
    "    # find the indices of the nodes\n",
    "    node_ids = np.asarray(ids)\n",
    "    flat_node_ids = node_ids.reshape(-1)\n",
    "\n",
    "    flat_node_indices = G.node_ids_to_ilocs(flat_node_ids) # in-built function makes it really easy\n",
    "    # back to the original shape\n",
    "    node_indices = flat_node_indices.reshape(1, len(node_ids)) # add 1 extra dimension\n",
    "    \n",
    "    return node_indices\n",
    "\n",
    "# Get indices\n",
    "train_indices = get_node_indices(G, train_pages.index)\n",
    "val_indices = get_node_indices(G, val_pages.index)\n",
    "test_indices = get_node_indices(G, test_pages.index)\n",
    "\n",
    "# Expand dimensions\n",
    "features_input = np.expand_dims(features_matrix, 0)\n",
    "A_input = np.expand_dims(A_norm, 0)\n",
    "\n",
    "y_train = np.expand_dims(train_targets, 0)\n",
    "y_val = np.expand_dims(val_targets, 0)\n",
    "y_test = np.expand_dims(test_targets, 0)"
   ]
  },
  {
   "cell_type": "code",
   "execution_count": 50,
   "id": "11fa093d",
   "metadata": {},
   "outputs": [
    {
     "name": "stdout",
     "output_type": "stream",
     "text": [
      "Using GCN (local pooling) filters...\n"
     ]
    },
    {
     "name": "stderr",
     "output_type": "stream",
     "text": [
      "C:\\ProgramData\\Anaconda3\\envs\\downgrade\\lib\\site-packages\\keras\\optimizer_v2\\adam.py:105: UserWarning: The `lr` argument is deprecated, use `learning_rate` instead.\n",
      "  super(Adam, self).__init__(name, **kwargs)\n"
     ]
    }
   ],
   "source": [
    "# Initialise the generator\n",
    "generator = FullBatchNodeGenerator(G, method=\"gcn\")\n",
    "\n",
    "# Use the .flow method to prepare it for use with GCN\n",
    "train_gen = generator.flow(train_pages.index, train_targets)\n",
    "val_gen = generator.flow(val_pages.index, val_targets)\n",
    "test_gen = generator.flow(test_pages.index, test_targets)\n",
    "\n",
    "# Build necessary layers\n",
    "gcn = GCN(\n",
    "    layer_sizes=[32, 32], activations=[\"relu\", \"relu\"], generator=generator, dropout=0.5\n",
    ")\n",
    "\n",
    "# Access the input and output tensors\n",
    "x_inp, x_out = gcn.in_out_tensors()\n",
    "\n",
    "# Pass the output tensor through the dense layer with sigmoid\n",
    "predictions = layers.Dense(units=train_targets.shape[1], activation=\"sigmoid\")(x_out)\n",
    "\n",
    "model = Model(inputs=x_inp, outputs=predictions)\n",
    "model.compile(\n",
    "    optimizer=optimizers.Adam(lr=0.01),\n",
    "    loss=losses.binary_crossentropy,\n",
    "    metrics=[\"acc\"],\n",
    ")"
   ]
  },
  {
   "cell_type": "code",
   "execution_count": 51,
   "id": "d0219927",
   "metadata": {},
   "outputs": [
    {
     "name": "stdout",
     "output_type": "stream",
     "text": [
      "Epoch 1/200\n",
      "1/1 - 5s - loss: 0.6868 - acc: 0.7250 - val_loss: 0.6250 - val_acc: 0.7240 - 5s/epoch - 5s/step\n",
      "Epoch 2/200\n",
      "1/1 - 4s - loss: 0.6118 - acc: 0.7580 - val_loss: 0.5781 - val_acc: 0.7240 - 4s/epoch - 4s/step\n",
      "Epoch 3/200\n",
      "1/1 - 4s - loss: 0.5506 - acc: 0.7580 - val_loss: 0.5634 - val_acc: 0.7240 - 4s/epoch - 4s/step\n",
      "Epoch 4/200\n",
      "1/1 - 4s - loss: 0.5152 - acc: 0.7580 - val_loss: 0.5811 - val_acc: 0.7240 - 4s/epoch - 4s/step\n",
      "Epoch 5/200\n",
      "1/1 - 4s - loss: 0.5205 - acc: 0.7580 - val_loss: 0.5785 - val_acc: 0.7240 - 4s/epoch - 4s/step\n",
      "Epoch 6/200\n",
      "1/1 - 4s - loss: 0.5140 - acc: 0.7580 - val_loss: 0.5521 - val_acc: 0.7240 - 4s/epoch - 4s/step\n",
      "Epoch 7/200\n",
      "1/1 - 4s - loss: 0.4902 - acc: 0.7580 - val_loss: 0.5205 - val_acc: 0.7240 - 4s/epoch - 4s/step\n",
      "Epoch 8/200\n",
      "1/1 - 4s - loss: 0.4628 - acc: 0.7600 - val_loss: 0.4934 - val_acc: 0.7260 - 4s/epoch - 4s/step\n",
      "Epoch 9/200\n",
      "1/1 - 4s - loss: 0.4457 - acc: 0.7610 - val_loss: 0.4741 - val_acc: 0.7520 - 4s/epoch - 4s/step\n",
      "Epoch 10/200\n",
      "1/1 - 4s - loss: 0.4289 - acc: 0.7790 - val_loss: 0.4603 - val_acc: 0.7860 - 4s/epoch - 4s/step\n",
      "Epoch 11/200\n",
      "1/1 - 4s - loss: 0.4166 - acc: 0.8180 - val_loss: 0.4487 - val_acc: 0.8080 - 4s/epoch - 4s/step\n",
      "Epoch 12/200\n",
      "1/1 - 4s - loss: 0.4052 - acc: 0.8380 - val_loss: 0.4333 - val_acc: 0.8200 - 4s/epoch - 4s/step\n",
      "Epoch 13/200\n",
      "1/1 - 4s - loss: 0.3956 - acc: 0.8410 - val_loss: 0.4171 - val_acc: 0.8240 - 4s/epoch - 4s/step\n",
      "Epoch 14/200\n",
      "1/1 - 5s - loss: 0.3582 - acc: 0.8690 - val_loss: 0.4079 - val_acc: 0.8180 - 5s/epoch - 5s/step\n",
      "Epoch 15/200\n",
      "1/1 - 4s - loss: 0.3477 - acc: 0.8430 - val_loss: 0.4055 - val_acc: 0.8200 - 4s/epoch - 4s/step\n",
      "Epoch 16/200\n",
      "1/1 - 4s - loss: 0.3346 - acc: 0.8590 - val_loss: 0.4037 - val_acc: 0.8220 - 4s/epoch - 4s/step\n",
      "Epoch 17/200\n",
      "1/1 - 4s - loss: 0.3252 - acc: 0.8590 - val_loss: 0.3972 - val_acc: 0.8320 - 4s/epoch - 4s/step\n",
      "Epoch 18/200\n",
      "1/1 - 4s - loss: 0.3265 - acc: 0.8590 - val_loss: 0.3836 - val_acc: 0.8300 - 4s/epoch - 4s/step\n",
      "Epoch 19/200\n",
      "1/1 - 4s - loss: 0.3076 - acc: 0.8750 - val_loss: 0.3737 - val_acc: 0.8320 - 4s/epoch - 4s/step\n",
      "Epoch 20/200\n",
      "1/1 - 4s - loss: 0.2798 - acc: 0.8930 - val_loss: 0.3738 - val_acc: 0.8360 - 4s/epoch - 4s/step\n",
      "Epoch 21/200\n",
      "1/1 - 4s - loss: 0.2921 - acc: 0.8820 - val_loss: 0.3767 - val_acc: 0.8360 - 4s/epoch - 4s/step\n",
      "Epoch 22/200\n",
      "1/1 - 4s - loss: 0.2881 - acc: 0.8890 - val_loss: 0.3783 - val_acc: 0.8360 - 4s/epoch - 4s/step\n",
      "Epoch 23/200\n",
      "1/1 - 4s - loss: 0.2814 - acc: 0.8860 - val_loss: 0.3810 - val_acc: 0.8380 - 4s/epoch - 4s/step\n",
      "Epoch 24/200\n",
      "1/1 - 4s - loss: 0.2813 - acc: 0.8790 - val_loss: 0.3895 - val_acc: 0.8280 - 4s/epoch - 4s/step\n",
      "Epoch 25/200\n",
      "1/1 - 4s - loss: 0.2609 - acc: 0.8890 - val_loss: 0.3968 - val_acc: 0.8300 - 4s/epoch - 4s/step\n",
      "Epoch 26/200\n",
      "1/1 - 4s - loss: 0.2514 - acc: 0.8960 - val_loss: 0.3986 - val_acc: 0.8300 - 4s/epoch - 4s/step\n",
      "Epoch 27/200\n",
      "1/1 - 4s - loss: 0.2944 - acc: 0.8730 - val_loss: 0.3956 - val_acc: 0.8440 - 4s/epoch - 4s/step\n",
      "Epoch 28/200\n",
      "1/1 - 4s - loss: 0.2799 - acc: 0.8880 - val_loss: 0.4019 - val_acc: 0.8420 - 4s/epoch - 4s/step\n",
      "Epoch 29/200\n",
      "1/1 - 4s - loss: 0.2595 - acc: 0.9020 - val_loss: 0.4086 - val_acc: 0.8400 - 4s/epoch - 4s/step\n",
      "ROC AUC: 0.8931610252425033\n",
      "PR AUC: 0.7629059743586601\n",
      "F1 score: 0.6942632445284399\n",
      "[[0.94970381 0.05029619]\n",
      " [0.39160167 0.60839833]]\n"
     ]
    }
   ],
   "source": [
    "# Train the model\n",
    "history = model.fit(\n",
    "    train_gen,\n",
    "    epochs=200,\n",
    "    validation_data=val_gen,\n",
    "    verbose=2,\n",
    "    shuffle=False,  # this should be False, since shuffling data means shuffling the whole graph\n",
    "    callbacks=[es_callback],\n",
    ")\n",
    "\n",
    "new_preds = model.predict(test_gen)\n",
    "\n",
    "auc, pr, f_score = evaluate_preds(test_targets.ravel(),new_preds[0].ravel())"
   ]
  },
  {
   "cell_type": "code",
   "execution_count": 55,
   "id": "b60b9ea9",
   "metadata": {},
   "outputs": [
    {
     "name": "stdout",
     "output_type": "stream",
     "text": [
      "(1, 37700, 37700)\n"
     ]
    }
   ],
   "source": [
    "print(A_input.shape)"
   ]
  },
  {
   "cell_type": "code",
   "execution_count": 53,
   "id": "232909db",
   "metadata": {},
   "outputs": [
    {
     "ename": "MemoryError",
     "evalue": "Unable to allocate 5.29 GiB for an array with shape (1, 37700, 37700) and data type float32",
     "output_type": "error",
     "traceback": [
      "\u001b[1;31m---------------------------------------------------------------------------\u001b[0m",
      "\u001b[1;31mMemoryError\u001b[0m                               Traceback (most recent call last)",
      "\u001b[1;32m~\\AppData\\Local\\Temp/ipykernel_29344/1575527620.py\u001b[0m in \u001b[0;36m<module>\u001b[1;34m\u001b[0m\n\u001b[0;32m      6\u001b[0m \u001b[1;33m\u001b[0m\u001b[0m\n\u001b[0;32m      7\u001b[0m \u001b[1;31m#Get embeddings\u001b[0m\u001b[1;33m\u001b[0m\u001b[1;33m\u001b[0m\u001b[1;33m\u001b[0m\u001b[0m\n\u001b[1;32m----> 8\u001b[1;33m \u001b[0memb\u001b[0m \u001b[1;33m=\u001b[0m \u001b[0membedding_model\u001b[0m\u001b[1;33m.\u001b[0m\u001b[0mpredict\u001b[0m\u001b[1;33m(\u001b[0m\u001b[1;33m[\u001b[0m\u001b[0mfeatures_input\u001b[0m\u001b[1;33m,\u001b[0m \u001b[0mall_indices\u001b[0m\u001b[1;33m,\u001b[0m \u001b[0mA_input\u001b[0m\u001b[1;33m]\u001b[0m\u001b[1;33m)\u001b[0m\u001b[1;33m\u001b[0m\u001b[1;33m\u001b[0m\u001b[0m\n\u001b[0m\u001b[0;32m      9\u001b[0m \u001b[0mprint\u001b[0m\u001b[1;33m(\u001b[0m\u001b[0memb\u001b[0m\u001b[1;33m.\u001b[0m\u001b[0mshape\u001b[0m\u001b[1;33m)\u001b[0m\u001b[1;33m\u001b[0m\u001b[1;33m\u001b[0m\u001b[0m\n\u001b[0;32m     10\u001b[0m \u001b[1;31m# Shape: (1, 37700, 32)\u001b[0m\u001b[1;33m\u001b[0m\u001b[1;33m\u001b[0m\u001b[1;33m\u001b[0m\u001b[0m\n",
      "\u001b[1;32mC:\\ProgramData\\Anaconda3\\envs\\downgrade\\lib\\site-packages\\keras\\utils\\traceback_utils.py\u001b[0m in \u001b[0;36merror_handler\u001b[1;34m(*args, **kwargs)\u001b[0m\n\u001b[0;32m     65\u001b[0m     \u001b[1;32mexcept\u001b[0m \u001b[0mException\u001b[0m \u001b[1;32mas\u001b[0m \u001b[0me\u001b[0m\u001b[1;33m:\u001b[0m  \u001b[1;31m# pylint: disable=broad-except\u001b[0m\u001b[1;33m\u001b[0m\u001b[1;33m\u001b[0m\u001b[0m\n\u001b[0;32m     66\u001b[0m       \u001b[0mfiltered_tb\u001b[0m \u001b[1;33m=\u001b[0m \u001b[0m_process_traceback_frames\u001b[0m\u001b[1;33m(\u001b[0m\u001b[0me\u001b[0m\u001b[1;33m.\u001b[0m\u001b[0m__traceback__\u001b[0m\u001b[1;33m)\u001b[0m\u001b[1;33m\u001b[0m\u001b[1;33m\u001b[0m\u001b[0m\n\u001b[1;32m---> 67\u001b[1;33m       \u001b[1;32mraise\u001b[0m \u001b[0me\u001b[0m\u001b[1;33m.\u001b[0m\u001b[0mwith_traceback\u001b[0m\u001b[1;33m(\u001b[0m\u001b[0mfiltered_tb\u001b[0m\u001b[1;33m)\u001b[0m \u001b[1;32mfrom\u001b[0m \u001b[1;32mNone\u001b[0m\u001b[1;33m\u001b[0m\u001b[1;33m\u001b[0m\u001b[0m\n\u001b[0m\u001b[0;32m     68\u001b[0m     \u001b[1;32mfinally\u001b[0m\u001b[1;33m:\u001b[0m\u001b[1;33m\u001b[0m\u001b[1;33m\u001b[0m\u001b[0m\n\u001b[0;32m     69\u001b[0m       \u001b[1;32mdel\u001b[0m \u001b[0mfiltered_tb\u001b[0m\u001b[1;33m\u001b[0m\u001b[1;33m\u001b[0m\u001b[0m\n",
      "\u001b[1;32mC:\\ProgramData\\Anaconda3\\envs\\downgrade\\lib\\site-packages\\tensorflow\\python\\framework\\constant_op.py\u001b[0m in \u001b[0;36mconvert_to_eager_tensor\u001b[1;34m(value, ctx, dtype)\u001b[0m\n\u001b[0;32m    104\u001b[0m       \u001b[0mdtype\u001b[0m \u001b[1;33m=\u001b[0m \u001b[0mdtypes\u001b[0m\u001b[1;33m.\u001b[0m\u001b[0mas_dtype\u001b[0m\u001b[1;33m(\u001b[0m\u001b[0mdtype\u001b[0m\u001b[1;33m)\u001b[0m\u001b[1;33m.\u001b[0m\u001b[0mas_datatype_enum\u001b[0m\u001b[1;33m\u001b[0m\u001b[1;33m\u001b[0m\u001b[0m\n\u001b[0;32m    105\u001b[0m   \u001b[0mctx\u001b[0m\u001b[1;33m.\u001b[0m\u001b[0mensure_initialized\u001b[0m\u001b[1;33m(\u001b[0m\u001b[1;33m)\u001b[0m\u001b[1;33m\u001b[0m\u001b[1;33m\u001b[0m\u001b[0m\n\u001b[1;32m--> 106\u001b[1;33m   \u001b[1;32mreturn\u001b[0m \u001b[0mops\u001b[0m\u001b[1;33m.\u001b[0m\u001b[0mEagerTensor\u001b[0m\u001b[1;33m(\u001b[0m\u001b[0mvalue\u001b[0m\u001b[1;33m,\u001b[0m \u001b[0mctx\u001b[0m\u001b[1;33m.\u001b[0m\u001b[0mdevice_name\u001b[0m\u001b[1;33m,\u001b[0m \u001b[0mdtype\u001b[0m\u001b[1;33m)\u001b[0m\u001b[1;33m\u001b[0m\u001b[1;33m\u001b[0m\u001b[0m\n\u001b[0m\u001b[0;32m    107\u001b[0m \u001b[1;33m\u001b[0m\u001b[0m\n\u001b[0;32m    108\u001b[0m \u001b[1;33m\u001b[0m\u001b[0m\n",
      "\u001b[1;31mMemoryError\u001b[0m: Unable to allocate 5.29 GiB for an array with shape (1, 37700, 37700) and data type float32"
     ]
    }
   ],
   "source": [
    "# Define the embedding model\n",
    "embedding_model = Model(inputs=x_inp, outputs=model.layers[-2].output)\n",
    "\n",
    "# Get indices of all nodes\n",
    "all_indices = get_node_indices(G, targets.index)\n",
    "\n",
    "#Get embeddings\n",
    "emb = embedding_model.predict([features_input, all_indices, A_input])\n",
    "print(emb.shape)\n",
    "# Shape: (1, 37700, 32)\n",
    "\n",
    "# UMAP for visualisation\n",
    "u = umap.UMAP(random_state=42)\n",
    "umap_embs = u.fit_transform(emb[0])\n",
    "\n",
    "#Plot the embeddingsembe\n",
    "plt.figure(figsize=(20,10))\n",
    "ax = sns.scatterplot(x = umap_embs[:, 0], y = umap_embs[:, 1], hue = targets['ml_target'])"
   ]
  }
 ],
 "metadata": {
  "kernelspec": {
   "display_name": "Python 3 (ipykernel)",
   "language": "python",
   "name": "python3"
  },
  "language_info": {
   "codemirror_mode": {
    "name": "ipython",
    "version": 3
   },
   "file_extension": ".py",
   "mimetype": "text/x-python",
   "name": "python",
   "nbconvert_exporter": "python",
   "pygments_lexer": "ipython3",
   "version": "3.8.12"
  }
 },
 "nbformat": 4,
 "nbformat_minor": 5
}
